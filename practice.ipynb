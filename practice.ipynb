{
 "cells": [
  {
   "cell_type": "code",
   "execution_count": 5,
   "id": "d3571223-ba38-4585-8f0f-d186c55bce1a",
   "metadata": {},
   "outputs": [
    {
     "name": "stdin",
     "output_type": "stream",
     "text": [
      "enter the number 3\n"
     ]
    },
    {
     "name": "stdout",
     "output_type": "stream",
     "text": [
      "6\n"
     ]
    }
   ],
   "source": [
    "num=int(input('enter the number'))\n",
    "fact=1\n",
    "for i in range(1,num+1):\n",
    "    fact=fact*i\n",
    "print(fact)"
   ]
  },
  {
   "cell_type": "code",
   "execution_count": 7,
   "id": "602158e8-37e1-46d4-bc2f-5a45dcf884be",
   "metadata": {},
   "outputs": [
    {
     "name": "stdout",
     "output_type": "stream",
     "text": [
      "Odd numbers\n",
      "1\n",
      "3\n",
      "5\n",
      "7\n",
      "9\n",
      "11\n",
      "13\n",
      "15\n",
      "17\n",
      "19\n",
      "21\n",
      "23\n",
      "25\n"
     ]
    }
   ],
   "source": [
    "print('Odd numbers')\n",
    "for i in range(1,27):\n",
    "    if i%2==0:\n",
    "       odd=i-1\n",
    "       print(f\"{odd}\")  #format output for alignment!!"
   ]
  },
  {
   "cell_type": "code",
   "execution_count": 9,
   "id": "7d22a96c-7390-4c91-8f46-bab4a541d261",
   "metadata": {},
   "outputs": [
    {
     "name": "stdin",
     "output_type": "stream",
     "text": [
      "enter the number: 3\n"
     ]
    },
    {
     "name": "stdout",
     "output_type": "stream",
     "text": [
      "multiplication table of  3\n",
      "3 x 1 = 3\n",
      "3 x 2 = 6\n",
      "3 x 3 = 9\n",
      "3 x 4 = 12\n",
      "3 x 5 = 15\n",
      "3 x 6 = 18\n",
      "3 x 7 = 21\n",
      "3 x 8 = 24\n",
      "3 x 9 = 27\n",
      "3 x 10 = 30\n"
     ]
    }
   ],
   "source": [
    "num=int(input(\"enter the number:\"))\n",
    "print(\"multiplication table of \",num)\n",
    "for i in range(1,11):\n",
    "        print(num,'x',i,'=',num*i)"
   ]
  },
  {
   "cell_type": "code",
   "execution_count": 11,
   "id": "ca851091-9e95-4330-beb8-c85e7b07201a",
   "metadata": {},
   "outputs": [
    {
     "name": "stdout",
     "output_type": "stream",
     "text": [
      "palindrome string\n"
     ]
    }
   ],
   "source": [
    "str=\"Madam\"\n",
    "str=str.lower()\n",
    "str1=reversed(str)\n",
    "if list(str)==list(str1):\n",
    "   print(\"palindrome string\")\n",
    "else:\n",
    "   print(\"not a palindrome string\")"
   ]
  },
  {
   "cell_type": "code",
   "execution_count": 13,
   "id": "8d54fa65-eec9-43a7-be2b-651956940ff1",
   "metadata": {},
   "outputs": [
    {
     "name": "stdin",
     "output_type": "stream",
     "text": [
      "enter a 1st number 43\n",
      "enter a 2nd number 55\n",
      "enter a 3rd number 60\n"
     ]
    },
    {
     "name": "stdout",
     "output_type": "stream",
     "text": [
      "55\n",
      "the median is: (43, 55, 60)\n"
     ]
    }
   ],
   "source": [
    "a=int(input('enter a 1st number'))\n",
    "b=int(input('enter a 2nd number'))\n",
    "c=int(input('enter a 3rd number'))\n",
    "median=(a,b,c)\n",
    "if (a>b and a<c) or (a<b and a>c):\n",
    "    print(a)\n",
    "elif (b>a and b<c) or (b<a and b>c):\n",
    "    print(b)\n",
    "else:\n",
    "    print(c)\n",
    "print('the median is:',median)"
   ]
  },
  {
   "cell_type": "code",
   "execution_count": 15,
   "id": "23778244-3db8-46c6-ac79-f4f431656b2a",
   "metadata": {},
   "outputs": [
    {
     "name": "stdout",
     "output_type": "stream",
     "text": [
      "loop skips\n"
     ]
    }
   ],
   "source": [
    "for index in range(50,30,-3):\n",
    "    if index==50:\n",
    "        print(\"loop skips\")\n",
    "        continue\n",
    "        print(index,end=' ')\n",
    "        print(index)"
   ]
  },
  {
   "cell_type": "code",
   "execution_count": 1,
   "id": "41018c42-05bb-4597-8477-6c2b462e59a6",
   "metadata": {},
   "outputs": [
    {
     "name": "stdin",
     "output_type": "stream",
     "text": [
      " 200000\n",
      " 0.2\n",
      " 54\n"
     ]
    },
    {
     "name": "stdout",
     "output_type": "stream",
     "text": [
      "year 1:10800000.00\n",
      "year 2:12960000.00\n",
      "year 3:15552000.00\n",
      "year 4:18662400.00\n",
      "year 5:22394880.00\n",
      "year 6:26873856.00\n",
      "year 7:32248627.20\n",
      "year 8:38698352.64\n",
      "year 9:46438023.17\n",
      "year 10:55725627.80\n"
     ]
    }
   ],
   "source": [
    "initial_population=int(input())\n",
    "growth_rate=float(input())\n",
    "female_precentage=float(input())\n",
    "for year in range(10):\n",
    "    total=initial_population*(1+growth_rate)**year\n",
    "    female=total*female_precentage\n",
    "    print(f\"year {year+1}:{female:.2f}\")"
   ]
  },
  {
   "cell_type": "code",
   "execution_count": null,
   "id": "0975a83c-43fb-484b-a004-7d1b330e1d9e",
   "metadata": {},
   "outputs": [],
   "source": []
  }
 ],
 "metadata": {
  "kernelspec": {
   "display_name": "Python 3 (ipykernel)",
   "language": "python",
   "name": "python3"
  },
  "language_info": {
   "codemirror_mode": {
    "name": "ipython",
    "version": 3
   },
   "file_extension": ".py",
   "mimetype": "text/x-python",
   "name": "python",
   "nbconvert_exporter": "python",
   "pygments_lexer": "ipython3",
   "version": "3.12.4"
  }
 },
 "nbformat": 4,
 "nbformat_minor": 5
}
